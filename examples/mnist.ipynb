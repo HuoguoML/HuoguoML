{
 "cells": [
  {
   "cell_type": "markdown",
   "metadata": {},
   "source": [
    "# MNIST Classifier with HuoguoML\n",
    "\n",
    "This short notebook shows how to use HuoguoML to deploy and manage a service. This includes:\n",
    "\n",
    "1. Building and training a neural network to classify MNIST images\n",
    "2. Create a HuoguoML service"
   ]
  },
  {
   "cell_type": "markdown",
   "metadata": {},
   "source": [
    "## Requirements\n",
    "\n",
    "We will be using Tensorflow 2 and HuoguoML. Update `pip` and install packages:"
   ]
  },
  {
   "cell_type": "code",
   "execution_count": null,
   "metadata": {
    "id": "nnrWf3PCEzXL"
   },
   "outputs": [],
   "source": [
    "!pip install --upgrade pip\n",
    "!pip install tensorflow\n",
    "!pip install huoguoml"
   ]
  },
  {
   "cell_type": "markdown",
   "metadata": {
    "pycharm": {
     "name": "#%%\n"
    }
   },
   "source": [
    "Import all packages:"
   ]
  },
  {
   "cell_type": "code",
   "execution_count": null,
   "metadata": {
    "id": "0trJmd6DjqBZ"
   },
   "outputs": [],
   "source": [
    "import tensorflow as tf"
   ]
  },
  {
   "cell_type": "markdown",
   "metadata": {},
   "source": [
    "## Building and training a neural network to classify MNIST images\n",
    "\n",
    "### Data\n",
    "\n",
    "First we load and prepare the [MNIST dataset](http://yann.lecun.com/exdb/mnist/). Further, the samples are converted from integers to floating-point numbers:"
   ]
  },
  {
   "cell_type": "code",
   "execution_count": null,
   "metadata": {
    "id": "7FP5258xjs-v"
   },
   "outputs": [],
   "source": [
    "mnist = tf.keras.datasets.mnist\n",
    "\n",
    "(x_train, y_train), (x_test, y_test) = mnist.load_data()\n",
    "x_train, x_test = x_train / 255.0, x_test / 255.0"
   ]
  },
  {
   "cell_type": "markdown",
   "metadata": {
    "id": "BPZ68wASog_I"
   },
   "source": [
    "### Create a neural network\n",
    "A two layer fully connected neural network, that is trained with cross entropy loss and optimized with adam model:"
   ]
  },
  {
   "cell_type": "code",
   "execution_count": null,
   "metadata": {
    "id": "h3IKyzTCDNGo"
   },
   "outputs": [],
   "source": [
    "model = tf.keras.models.Sequential([\n",
    "  tf.keras.layers.Flatten(input_shape=(28, 28)),\n",
    "  tf.keras.layers.Dense(128, activation='relu'),\n",
    "  tf.keras.layers.Dropout(0.2),\n",
    "  tf.keras.layers.Dense(10)\n",
    "])\n",
    "\n",
    "loss_fn = tf.keras.losses.SparseCategoricalCrossentropy(from_logits=True)\n",
    "\n",
    "model.compile(optimizer='adam',\n",
    "              loss=loss_fn,\n",
    "              metrics=['accuracy'])"
   ]
  },
  {
   "cell_type": "markdown",
   "metadata": {
    "id": "ix4mEL65on-w"
   },
   "source": [
    "### Train, evaluate and export neural network"
   ]
  },
  {
   "cell_type": "markdown",
   "metadata": {},
   "source": [
    "Train neural network"
   ]
  },
  {
   "cell_type": "code",
   "execution_count": null,
   "metadata": {
    "id": "y7suUbJXVLqP"
   },
   "outputs": [],
   "source": [
    "model.fit(x_train, y_train, epochs=5)"
   ]
  },
  {
   "cell_type": "markdown",
   "metadata": {
    "id": "4mDAAPFqVVgn"
   },
   "source": [
    "Evaluate neural network -the image classifier should have a accuracy of ~98% on this dataset."
   ]
  },
  {
   "cell_type": "code",
   "execution_count": null,
   "metadata": {
    "id": "F7dTAzgHDUh7"
   },
   "outputs": [],
   "source": [
    "model.evaluate(x_test,  y_test, verbose=2)"
   ]
  },
  {
   "cell_type": "markdown",
   "metadata": {},
   "source": [
    "Export neural network"
   ]
  },
  {
   "cell_type": "code",
   "execution_count": null,
   "metadata": {},
   "outputs": [],
   "source": [
    "model_dir = \"./model\"\n",
    "model.save(model_dir)"
   ]
  },
  {
   "cell_type": "code",
   "execution_count": null,
   "metadata": {},
   "outputs": [],
   "source": [
    "!saved_model_cli show --dir ./model --all"
   ]
  },
  {
   "cell_type": "code",
   "execution_count": null,
   "metadata": {},
   "outputs": [],
   "source": [
    "!pip uninstall huoguoml"
   ]
  },
  {
   "cell_type": "markdown",
   "metadata": {
    "id": "T4JfEh7kvx6m"
   },
   "source": [
    "## Create a HuoguoML service"
   ]
  },
  {
   "cell_type": "code",
   "execution_count": 1,
   "metadata": {
    "scrolled": true
   },
   "outputs": [],
   "source": [
    "import sys\n",
    "sys.path.insert(0,'..')\n",
    "import huoguoml\n",
    "import time\n",
    "import random"
   ]
  },
  {
   "cell_type": "code",
   "execution_count": 2,
   "metadata": {
    "scrolled": true
   },
   "outputs": [
    {
     "name": "stdout",
     "output_type": "stream",
     "text": [
      "name='mnist-15'\n",
      "http://127.0.0.1:8080/api/v1/experiments/\n",
      "<Response [405]>\n"
     ]
    },
    {
     "ename": "ValidationError",
     "evalue": "1 validation error for Experiment\n__root__\n  Expecting value: line 1 column 1 (char 0) (type=value_error.jsondecode; msg=Expecting value; doc=Method Not Allowed; pos=0; lineno=1; colno=1)",
     "output_type": "error",
     "traceback": [
      "\u001b[0;31m---------------------------------------------------------------------------\u001b[0m",
      "\u001b[0;31mJSONDecodeError\u001b[0m                           Traceback (most recent call last)",
      "\u001b[0;32m~/HuoguoML/venv/lib/python3.7/site-packages/pydantic/main.cpython-37m-darwin.so\u001b[0m in \u001b[0;36mpydantic.main.BaseModel.parse_raw\u001b[0;34m()\u001b[0m\n",
      "\u001b[0;32m~/HuoguoML/venv/lib/python3.7/site-packages/pydantic/parse.cpython-37m-darwin.so\u001b[0m in \u001b[0;36mpydantic.parse.load_str_bytes\u001b[0;34m()\u001b[0m\n",
      "\u001b[0;32m/Library/Frameworks/Python.framework/Versions/3.7/lib/python3.7/json/__init__.py\u001b[0m in \u001b[0;36mloads\u001b[0;34m(s, encoding, cls, object_hook, parse_float, parse_int, parse_constant, object_pairs_hook, **kw)\u001b[0m\n\u001b[1;32m    347\u001b[0m             parse_constant is None and object_pairs_hook is None and not kw):\n\u001b[0;32m--> 348\u001b[0;31m         \u001b[0;32mreturn\u001b[0m \u001b[0m_default_decoder\u001b[0m\u001b[0;34m.\u001b[0m\u001b[0mdecode\u001b[0m\u001b[0;34m(\u001b[0m\u001b[0ms\u001b[0m\u001b[0;34m)\u001b[0m\u001b[0;34m\u001b[0m\u001b[0;34m\u001b[0m\u001b[0m\n\u001b[0m\u001b[1;32m    349\u001b[0m     \u001b[0;32mif\u001b[0m \u001b[0mcls\u001b[0m \u001b[0;32mis\u001b[0m \u001b[0;32mNone\u001b[0m\u001b[0;34m:\u001b[0m\u001b[0;34m\u001b[0m\u001b[0;34m\u001b[0m\u001b[0m\n",
      "\u001b[0;32m/Library/Frameworks/Python.framework/Versions/3.7/lib/python3.7/json/decoder.py\u001b[0m in \u001b[0;36mdecode\u001b[0;34m(self, s, _w)\u001b[0m\n\u001b[1;32m    336\u001b[0m         \"\"\"\n\u001b[0;32m--> 337\u001b[0;31m         \u001b[0mobj\u001b[0m\u001b[0;34m,\u001b[0m \u001b[0mend\u001b[0m \u001b[0;34m=\u001b[0m \u001b[0mself\u001b[0m\u001b[0;34m.\u001b[0m\u001b[0mraw_decode\u001b[0m\u001b[0;34m(\u001b[0m\u001b[0ms\u001b[0m\u001b[0;34m,\u001b[0m \u001b[0midx\u001b[0m\u001b[0;34m=\u001b[0m\u001b[0m_w\u001b[0m\u001b[0;34m(\u001b[0m\u001b[0ms\u001b[0m\u001b[0;34m,\u001b[0m \u001b[0;36m0\u001b[0m\u001b[0;34m)\u001b[0m\u001b[0;34m.\u001b[0m\u001b[0mend\u001b[0m\u001b[0;34m(\u001b[0m\u001b[0;34m)\u001b[0m\u001b[0;34m)\u001b[0m\u001b[0;34m\u001b[0m\u001b[0;34m\u001b[0m\u001b[0m\n\u001b[0m\u001b[1;32m    338\u001b[0m         \u001b[0mend\u001b[0m \u001b[0;34m=\u001b[0m \u001b[0m_w\u001b[0m\u001b[0;34m(\u001b[0m\u001b[0ms\u001b[0m\u001b[0;34m,\u001b[0m \u001b[0mend\u001b[0m\u001b[0;34m)\u001b[0m\u001b[0;34m.\u001b[0m\u001b[0mend\u001b[0m\u001b[0;34m(\u001b[0m\u001b[0;34m)\u001b[0m\u001b[0;34m\u001b[0m\u001b[0;34m\u001b[0m\u001b[0m\n",
      "\u001b[0;32m/Library/Frameworks/Python.framework/Versions/3.7/lib/python3.7/json/decoder.py\u001b[0m in \u001b[0;36mraw_decode\u001b[0;34m(self, s, idx)\u001b[0m\n\u001b[1;32m    354\u001b[0m         \u001b[0;32mexcept\u001b[0m \u001b[0mStopIteration\u001b[0m \u001b[0;32mas\u001b[0m \u001b[0merr\u001b[0m\u001b[0;34m:\u001b[0m\u001b[0;34m\u001b[0m\u001b[0;34m\u001b[0m\u001b[0m\n\u001b[0;32m--> 355\u001b[0;31m             \u001b[0;32mraise\u001b[0m \u001b[0mJSONDecodeError\u001b[0m\u001b[0;34m(\u001b[0m\u001b[0;34m\"Expecting value\"\u001b[0m\u001b[0;34m,\u001b[0m \u001b[0ms\u001b[0m\u001b[0;34m,\u001b[0m \u001b[0merr\u001b[0m\u001b[0;34m.\u001b[0m\u001b[0mvalue\u001b[0m\u001b[0;34m)\u001b[0m \u001b[0;32mfrom\u001b[0m \u001b[0;32mNone\u001b[0m\u001b[0;34m\u001b[0m\u001b[0;34m\u001b[0m\u001b[0m\n\u001b[0m\u001b[1;32m    356\u001b[0m         \u001b[0;32mreturn\u001b[0m \u001b[0mobj\u001b[0m\u001b[0;34m,\u001b[0m \u001b[0mend\u001b[0m\u001b[0;34m\u001b[0m\u001b[0;34m\u001b[0m\u001b[0m\n",
      "\u001b[0;31mJSONDecodeError\u001b[0m: Expecting value: line 1 column 1 (char 0)",
      "\nDuring handling of the above exception, another exception occurred:\n",
      "\u001b[0;31mValidationError\u001b[0m                           Traceback (most recent call last)",
      "\u001b[0;32m<ipython-input-2-bd65ca9088d4>\u001b[0m in \u001b[0;36m<module>\u001b[0;34m\u001b[0m\n\u001b[0;32m----> 1\u001b[0;31m \u001b[0;32mwith\u001b[0m \u001b[0mhuoguoml\u001b[0m\u001b[0;34m.\u001b[0m\u001b[0mstart_experiment_run\u001b[0m\u001b[0;34m(\u001b[0m\u001b[0;34m\"mnist-15\"\u001b[0m\u001b[0;34m,\u001b[0m \u001b[0;34m\"http://127.0.0.1:8080\"\u001b[0m\u001b[0;34m)\u001b[0m \u001b[0;32mas\u001b[0m \u001b[0mrun\u001b[0m\u001b[0;34m:\u001b[0m\u001b[0;34m\u001b[0m\u001b[0;34m\u001b[0m\u001b[0m\n\u001b[0m\u001b[1;32m      2\u001b[0m     \u001b[0mrun\u001b[0m\u001b[0;34m.\u001b[0m\u001b[0mlog_parameter\u001b[0m\u001b[0;34m(\u001b[0m\u001b[0;34m\"batch_size\"\u001b[0m\u001b[0;34m,\u001b[0m \u001b[0mrandom\u001b[0m\u001b[0;34m.\u001b[0m\u001b[0mrandint\u001b[0m\u001b[0;34m(\u001b[0m\u001b[0;36m0\u001b[0m\u001b[0;34m,\u001b[0m \u001b[0;36m100\u001b[0m\u001b[0;34m)\u001b[0m\u001b[0;34m)\u001b[0m\u001b[0;34m\u001b[0m\u001b[0;34m\u001b[0m\u001b[0m\n\u001b[1;32m      3\u001b[0m     \u001b[0mrun\u001b[0m\u001b[0;34m.\u001b[0m\u001b[0mlog_parameter\u001b[0m\u001b[0;34m(\u001b[0m\u001b[0;34m\"alpha\"\u001b[0m\u001b[0;34m,\u001b[0m \u001b[0mrandom\u001b[0m\u001b[0;34m.\u001b[0m\u001b[0mrandint\u001b[0m\u001b[0;34m(\u001b[0m\u001b[0;36m0\u001b[0m\u001b[0;34m,\u001b[0m \u001b[0;36m100\u001b[0m\u001b[0;34m)\u001b[0m\u001b[0;34m)\u001b[0m\u001b[0;34m\u001b[0m\u001b[0;34m\u001b[0m\u001b[0m\n\u001b[1;32m      4\u001b[0m     \u001b[0mrun\u001b[0m\u001b[0;34m.\u001b[0m\u001b[0mlog_parameter\u001b[0m\u001b[0;34m(\u001b[0m\u001b[0;34m\"beta\"\u001b[0m\u001b[0;34m,\u001b[0m \u001b[0mrandom\u001b[0m\u001b[0;34m.\u001b[0m\u001b[0mrandint\u001b[0m\u001b[0;34m(\u001b[0m\u001b[0;36m0\u001b[0m\u001b[0;34m,\u001b[0m \u001b[0;36m100\u001b[0m\u001b[0;34m)\u001b[0m\u001b[0;34m)\u001b[0m\u001b[0;34m\u001b[0m\u001b[0;34m\u001b[0m\u001b[0m\n\u001b[1;32m      5\u001b[0m     \u001b[0mrun\u001b[0m\u001b[0;34m.\u001b[0m\u001b[0mlog_parameter\u001b[0m\u001b[0;34m(\u001b[0m\u001b[0;34m\"gamma\"\u001b[0m\u001b[0;34m,\u001b[0m \u001b[0mrandom\u001b[0m\u001b[0;34m.\u001b[0m\u001b[0mrandint\u001b[0m\u001b[0;34m(\u001b[0m\u001b[0;36m0\u001b[0m\u001b[0;34m,\u001b[0m \u001b[0;36m100\u001b[0m\u001b[0;34m)\u001b[0m\u001b[0;34m)\u001b[0m\u001b[0;34m\u001b[0m\u001b[0;34m\u001b[0m\u001b[0m\n",
      "\u001b[0;32m~/HuoguoML/huoguoml/tracking/__init__.py\u001b[0m in \u001b[0;36mstart_experiment_run\u001b[0;34m(experiment_name, server_uri)\u001b[0m\n\u001b[1;32m     84\u001b[0m         \u001b[0mserver_uri\u001b[0m\u001b[0;34m:\u001b[0m \u001b[0mUri\u001b[0m \u001b[0mto\u001b[0m \u001b[0mthe\u001b[0m \u001b[0mHuoguoML\u001b[0m \u001b[0mserver\u001b[0m\u001b[0;34m.\u001b[0m \u001b[0;34m(\u001b[0m\u001b[0mdefault\u001b[0m\u001b[0;34m:\u001b[0m \u001b[0;36m127.0\u001b[0m\u001b[0;36m.0\u001b[0m\u001b[0;36m.1\u001b[0m\u001b[0;34m:\u001b[0m\u001b[0;36m8080\u001b[0m\u001b[0;34m)\u001b[0m\u001b[0;34m\u001b[0m\u001b[0;34m\u001b[0m\u001b[0m\n\u001b[1;32m     85\u001b[0m     \"\"\"\n\u001b[0;32m---> 86\u001b[0;31m     \u001b[0;32mreturn\u001b[0m \u001b[0mHuoguoRun\u001b[0m\u001b[0;34m(\u001b[0m\u001b[0mserver_uri\u001b[0m\u001b[0;34m=\u001b[0m\u001b[0mserver_uri\u001b[0m\u001b[0;34m,\u001b[0m \u001b[0mexperiment_name\u001b[0m\u001b[0;34m=\u001b[0m\u001b[0mexperiment_name\u001b[0m\u001b[0;34m)\u001b[0m\u001b[0;34m\u001b[0m\u001b[0;34m\u001b[0m\u001b[0m\n\u001b[0m",
      "\u001b[0;32m~/HuoguoML/huoguoml/tracking/__init__.py\u001b[0m in \u001b[0;36m__init__\u001b[0;34m(self, experiment_name, server_uri)\u001b[0m\n\u001b[1;32m     30\u001b[0m                 data=exp_in.json(exclude_unset=True))\n\u001b[1;32m     31\u001b[0m             \u001b[0mprint\u001b[0m\u001b[0;34m(\u001b[0m\u001b[0mexp_res\u001b[0m\u001b[0;34m)\u001b[0m\u001b[0;34m\u001b[0m\u001b[0;34m\u001b[0m\u001b[0m\n\u001b[0;32m---> 32\u001b[0;31m         \u001b[0mexperiment\u001b[0m \u001b[0;34m=\u001b[0m \u001b[0mExperiment\u001b[0m\u001b[0;34m.\u001b[0m\u001b[0mparse_raw\u001b[0m\u001b[0;34m(\u001b[0m\u001b[0mexp_res\u001b[0m\u001b[0;34m.\u001b[0m\u001b[0mtext\u001b[0m\u001b[0;34m)\u001b[0m\u001b[0;34m\u001b[0m\u001b[0;34m\u001b[0m\u001b[0m\n\u001b[0m\u001b[1;32m     33\u001b[0m \u001b[0;34m\u001b[0m\u001b[0m\n\u001b[1;32m     34\u001b[0m         \u001b[0mrun_in\u001b[0m \u001b[0;34m=\u001b[0m \u001b[0mRunIn\u001b[0m\u001b[0;34m(\u001b[0m\u001b[0mexperiment_name\u001b[0m\u001b[0;34m=\u001b[0m\u001b[0mexperiment\u001b[0m\u001b[0;34m.\u001b[0m\u001b[0mname\u001b[0m\u001b[0;34m,\u001b[0m \u001b[0mauthor\u001b[0m\u001b[0;34m=\u001b[0m\u001b[0mgetpass\u001b[0m\u001b[0;34m.\u001b[0m\u001b[0mgetuser\u001b[0m\u001b[0;34m(\u001b[0m\u001b[0;34m)\u001b[0m\u001b[0;34m)\u001b[0m\u001b[0;34m\u001b[0m\u001b[0;34m\u001b[0m\u001b[0m\n",
      "\u001b[0;32m~/HuoguoML/venv/lib/python3.7/site-packages/pydantic/main.cpython-37m-darwin.so\u001b[0m in \u001b[0;36mpydantic.main.BaseModel.parse_raw\u001b[0;34m()\u001b[0m\n",
      "\u001b[0;31mValidationError\u001b[0m: 1 validation error for Experiment\n__root__\n  Expecting value: line 1 column 1 (char 0) (type=value_error.jsondecode; msg=Expecting value; doc=Method Not Allowed; pos=0; lineno=1; colno=1)"
     ]
    }
   ],
   "source": [
    "with huoguoml.start_experiment_run(\"mnist-15\", \"http://127.0.0.1:8080\") as run:\n",
    "    run.log_parameter(\"batch_size\", random.randint(0, 100))\n",
    "    run.log_parameter(\"alpha\", random.randint(0, 100))\n",
    "    run.log_parameter(\"beta\", random.randint(0, 100))\n",
    "    run.log_parameter(\"gamma\", random.randint(0, 100))\n",
    "    run.log_parameter(\"delta\", random.randint(0, 100))\n",
    "    run.log_metric(\"accuracy\", random.randint(0, 100))\n",
    "    run.log_metric(\"precision\", random.randint(0, 100))\n",
    "    run.log_metric(\"recall\", random.randint(0, 100))\n",
    "    run.log_metric(\"f1\", random.randint(0, 100))\n",
    "    run.log_tag(\"framework\", \"tensorflow\")\n",
    "    run.log_tag(\"git\", \"5123131241ed\")\n",
    "    run.log_model(\"tensorflow\", tf_saved_model_dir=\"../model\",\n",
    "                                tf_meta_graph_tags=\"serve\",\n",
    "                                tf_signature_def_key=\"serving_default\")"
   ]
  },
  {
   "cell_type": "code",
   "execution_count": null,
   "metadata": {
    "scrolled": true
   },
   "outputs": [],
   "source": [
    "for i in range(15):\n",
    "    with huoguoml.start_experiment_run(\"mnist-15\", artifact_dir=\"../huoguoml\") as run:\n",
    "        run.log_parameter(\"batch_size\", random.randint(0, 100))\n",
    "        run.log_parameter(\"alpha\", random.randint(0, 100))\n",
    "        run.log_parameter(\"beta\", random.randint(0, 100))\n",
    "        run.log_parameter(\"gamma\", random.randint(0, 100))\n",
    "        run.log_parameter(\"delta\", random.randint(0, 100))\n",
    "        run.log_metric(\"accuracy\", random.randint(0, 100))\n",
    "        run.log_metric(\"precision\", random.randint(0, 100))\n",
    "        run.log_metric(\"recall\", random.randint(0, 100))\n",
    "        run.log_metric(\"f1\", random.randint(0, 100))\n",
    "        run.log_tag(\"framework\", \"tensorflow\")\n",
    "        run.log_tag(\"git\", \"5123131241ed\")\n",
    "        run.log_model(\"tensorflow\", tf_saved_model_dir=\"../model\",\n",
    "                                  tf_meta_graph_tags=\"serve\",\n",
    "                                  tf_signature_def_key=\"serving_default\")\n",
    "        time.sleep(random.randint(0, 5))"
   ]
  },
  {
   "cell_type": "code",
   "execution_count": null,
   "metadata": {},
   "outputs": [],
   "source": [
    "for i in range(3):\n",
    "    with huoguoml.start_experiment_run(\"mnist-3\", artifact_dir=\"../huoguoml\") as run:\n",
    "        run.log_parameter(\"batch_size\", random.randint(0, 100))\n",
    "        run.log_parameter(\"alpha\", random.randint(0, 100))\n",
    "        run.log_parameter(\"beta\", random.randint(0, 100))\n",
    "        run.log_parameter(\"gamma\", random.randint(0, 100))\n",
    "        run.log_parameter(\"delta\", random.randint(0, 100))\n",
    "        run.log_metric(\"accuracy\", random.randint(0, 100))\n",
    "        run.log_metric(\"precision\", random.randint(0, 100))\n",
    "        run.log_metric(\"recall\", random.randint(0, 100))\n",
    "        run.log_metric(\"f1\", random.randint(0, 100))\n",
    "        run.log_tag(\"framework\", \"tensorflow\")\n",
    "        run.log_tag(\"git\", \"5123131241ed\")\n",
    "        run.log_model(\"tensorflow\", tf_saved_model_dir=\"../model\",\n",
    "                                  tf_meta_graph_tags=\"serve\",\n",
    "                                  tf_signature_def_key=\"serving_default\")\n",
    "        time.sleep(random.randint(0, 5))"
   ]
  },
  {
   "cell_type": "code",
   "execution_count": null,
   "metadata": {},
   "outputs": [],
   "source": [
    "for i in range(8):\n",
    "    with huoguoml.start_experiment_run(\"mnist-8\", artifact_dir=\"../huoguoml\") as run:\n",
    "        run.log_parameter(\"batch_size\", random.randint(0, 100))\n",
    "        run.log_parameter(\"alpha\", random.randint(0, 100))\n",
    "        run.log_parameter(\"beta\", random.randint(0, 100))\n",
    "        run.log_parameter(\"gamma\", random.randint(0, 100))\n",
    "        run.log_parameter(\"delta\", random.randint(0, 100))\n",
    "        run.log_metric(\"accuracy\", random.randint(0, 100))\n",
    "        run.log_metric(\"precision\", random.randint(0, 100))\n",
    "        run.log_metric(\"recall\", random.randint(0, 100))\n",
    "        run.log_metric(\"f1\", random.randint(0, 100))\n",
    "        run.log_tag(\"framework\", \"tensorflow\")\n",
    "        run.log_tag(\"git\", \"5123131241ed\")\n",
    "        run.log_model(\"tensorflow\", tf_saved_model_dir=\"../model\",\n",
    "                                  tf_meta_graph_tags=\"serve\",\n",
    "                                  tf_signature_def_key=\"serving_default\")\n",
    "        time.sleep(random.randint(0, 5))"
   ]
  }
 ],
 "metadata": {
  "colab": {
   "collapsed_sections": [
    "rX8mhOLljYeM"
   ],
   "name": "beginner.ipynb",
   "toc_visible": true
  },
  "kernelspec": {
   "display_name": "Python 3",
   "language": "python",
   "name": "python3"
  },
  "language_info": {
   "codemirror_mode": {
    "name": "ipython",
    "version": 3
   },
   "file_extension": ".py",
   "mimetype": "text/x-python",
   "name": "python",
   "nbconvert_exporter": "python",
   "pygments_lexer": "ipython3",
   "version": "3.7.6"
  }
 },
 "nbformat": 4,
 "nbformat_minor": 1
}
