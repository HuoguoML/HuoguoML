{
 "cells": [
  {
   "cell_type": "markdown",
   "metadata": {},
   "source": [
    "# MNIST Classifier with HuoguoML\n",
    "\n",
    "This short notebook shows how to use HuoguoML to deploy and manage a service. This includes:\n",
    "\n",
    "1. Building and training a neural network to classify MNIST images\n",
    "2. Create a HuoguoML service"
   ]
  },
  {
   "cell_type": "markdown",
   "metadata": {},
   "source": [
    "## Requirements\n",
    "\n",
    "We will be using Tensorflow 2 and HuoguoML. Update `pip` and install packages:"
   ]
  },
  {
   "cell_type": "code",
   "execution_count": null,
   "metadata": {
    "id": "nnrWf3PCEzXL"
   },
   "outputs": [],
   "source": [
    "!pip install --upgrade pip\n",
    "!pip install tensorflow\n",
    "!pip install huoguoml"
   ]
  },
  {
   "cell_type": "markdown",
   "metadata": {
    "pycharm": {
     "name": "#%%\n"
    }
   },
   "source": [
    "Import all packages:"
   ]
  },
  {
   "cell_type": "code",
   "execution_count": null,
   "metadata": {
    "id": "0trJmd6DjqBZ"
   },
   "outputs": [],
   "source": [
    "import tensorflow as tf"
   ]
  },
  {
   "cell_type": "markdown",
   "metadata": {},
   "source": [
    "## Building and training a neural network to classify MNIST images\n",
    "\n",
    "### Data\n",
    "\n",
    "First we load and prepare the [MNIST dataset](http://yann.lecun.com/exdb/mnist/). Further, the samples are converted from integers to floating-point numbers:"
   ]
  },
  {
   "cell_type": "code",
   "execution_count": null,
   "metadata": {
    "id": "7FP5258xjs-v"
   },
   "outputs": [],
   "source": [
    "mnist = tf.keras.datasets.mnist\n",
    "\n",
    "(x_train, y_train), (x_test, y_test) = mnist.load_data()\n",
    "x_train, x_test = x_train / 255.0, x_test / 255.0"
   ]
  },
  {
   "cell_type": "markdown",
   "metadata": {
    "id": "BPZ68wASog_I"
   },
   "source": [
    "### Create a neural network\n",
    "A two layer fully connected neural network, that is trained with cross entropy loss and optimized with adam model:"
   ]
  },
  {
   "cell_type": "code",
   "execution_count": null,
   "metadata": {
    "id": "h3IKyzTCDNGo"
   },
   "outputs": [],
   "source": [
    "model = tf.keras.models.Sequential([\n",
    "  tf.keras.layers.Flatten(input_shape=(28, 28)),\n",
    "  tf.keras.layers.Dense(128, activation='relu'),\n",
    "  tf.keras.layers.Dropout(0.2),\n",
    "  tf.keras.layers.Dense(10)\n",
    "])\n",
    "\n",
    "loss_fn = tf.keras.losses.SparseCategoricalCrossentropy(from_logits=True)\n",
    "\n",
    "model.compile(optimizer='adam',\n",
    "              loss=loss_fn,\n",
    "              metrics=['accuracy'])"
   ]
  },
  {
   "cell_type": "markdown",
   "metadata": {
    "id": "ix4mEL65on-w"
   },
   "source": [
    "### Train, evaluate and export neural network"
   ]
  },
  {
   "cell_type": "markdown",
   "metadata": {},
   "source": [
    "Train neural network"
   ]
  },
  {
   "cell_type": "code",
   "execution_count": null,
   "metadata": {
    "id": "y7suUbJXVLqP"
   },
   "outputs": [],
   "source": [
    "model.fit(x_train, y_train, epochs=5)"
   ]
  },
  {
   "cell_type": "markdown",
   "metadata": {
    "id": "4mDAAPFqVVgn"
   },
   "source": [
    "Evaluate neural network -the image classifier should have a accuracy of ~98% on this dataset."
   ]
  },
  {
   "cell_type": "code",
   "execution_count": null,
   "metadata": {
    "id": "F7dTAzgHDUh7"
   },
   "outputs": [],
   "source": [
    "model.evaluate(x_test,  y_test, verbose=2)"
   ]
  },
  {
   "cell_type": "markdown",
   "metadata": {},
   "source": [
    "Export neural network"
   ]
  },
  {
   "cell_type": "code",
   "execution_count": null,
   "metadata": {},
   "outputs": [],
   "source": [
    "model_dir = \"./model\"\n",
    "model.save(model_dir)"
   ]
  },
  {
   "cell_type": "code",
   "execution_count": null,
   "metadata": {},
   "outputs": [],
   "source": [
    "!saved_model_cli show --dir ./model --all"
   ]
  },
  {
   "cell_type": "markdown",
   "metadata": {
    "id": "T4JfEh7kvx6m"
   },
   "source": [
    "## Create a HuoguoML service"
   ]
  },
  {
   "cell_type": "code",
   "execution_count": 1,
   "metadata": {},
   "outputs": [],
   "source": [
    "import sys\n",
    "sys.path.insert(0,'../')\n",
    "import huoguoml\n",
    "import time"
   ]
  },
  {
   "cell_type": "code",
   "execution_count": 9,
   "metadata": {
    "scrolled": true
   },
   "outputs": [
    {
     "name": "stdout",
     "output_type": "stream",
     "text": [
      "id='6a0d32fbc5d3c07b9a0171c2f8d04098' run_nr=5 creation_time=1614800166.2138689 finish_time=1614800167.3540661 duration=1.1401972770690918 author='Steven' experiment_name='mnist' run_dir='C:\\\\Users\\\\Steven\\\\Desktop\\\\HuoguoML\\\\examples\\\\huoguoml\\\\mnist\\\\5' description=None parameters={'batch_size': 23, 'a': 120, 'b': 120, 'c': 120, 'd': 120} metrics={'accuracy': 90, 'precision': 90, 'recall': 90, 'f1': 90} tags={'framework': 'tensorflow', 'commit': '5123131241ed', 'version': '0.1'} model_definition=ModelDefinition(model_graph=ModelGraph(inputs={'flatten_input': ModelNode(dtype='float32', shape=[None, 28, 28])}, outputs={'dense_1': ModelNode(dtype='float32', shape=[None, 10])}), model_api=ModelAPI(module='tensorflow', name='load_model', arguments={'tf_saved_model_dir': 'model', 'tf_meta_graph_tags': 'serve', 'tf_signature_def_key': 'serving_default'}), requirements=['huoguoml=0.0.1', 'tensorflow=2.4.1'])\n"
     ]
    }
   ],
   "source": [
    "with huoguoml.start_experiment_run(\"mnist\", \"./huoguoml\") as run:\n",
    "    run.log_parameter(\"batch_size\", 23)\n",
    "    run.log_parameter(\"a\", 120)\n",
    "    run.log_parameter(\"b\", 120)\n",
    "    run.log_parameter(\"c\", 120)\n",
    "    run.log_parameter(\"d\", 120)\n",
    "    run.log_metric(\"accuracy\", 90)\n",
    "    run.log_metric(\"precision\", 90)\n",
    "    run.log_metric(\"recall\", 90)\n",
    "    run.log_metric(\"f1\", 90)\n",
    "    run.log_tag(\"framework\", \"tensorflow\")\n",
    "    run.log_tag(\"commit\", \"5123131241ed\")\n",
    "    run.log_tag(\"version\", \"0.1\")\n",
    "    run.log_model(\"tensorflow\", tf_saved_model_dir=\"./model\",\n",
    "                              tf_meta_graph_tags=\"serve\",\n",
    "                              tf_signature_def_key=\"serving_default\")\n",
    "    time.sleep(1)"
   ]
  },
  {
   "cell_type": "raw",
   "metadata": {
    "scrolled": true
   },
   "source": [
    "import tensorflow as tf\n",
    "print(tf.__version__)\n",
    "imported = tf.saved_model.load(\"./model\")\n",
    "f = imported.signatures[\"serving_default\"]\n",
    "f.__dir__()"
   ]
  },
  {
   "cell_type": "code",
   "execution_count": 5,
   "metadata": {},
   "outputs": [
    {
     "data": {
      "text/plain": [
       "'.'"
      ]
     },
     "execution_count": 5,
     "metadata": {},
     "output_type": "execute_result"
    }
   ],
   "source": [
    "os.curdir"
   ]
  },
  {
   "cell_type": "code",
   "execution_count": 8,
   "metadata": {},
   "outputs": [
    {
     "ename": "TypeError",
     "evalue": "abspath() missing 1 required positional argument: 'path'",
     "output_type": "error",
     "traceback": [
      "\u001b[1;31m---------------------------------------------------------------------------\u001b[0m",
      "\u001b[1;31mTypeError\u001b[0m                                 Traceback (most recent call last)",
      "\u001b[1;32m<ipython-input-8-e24dae7b72ec>\u001b[0m in \u001b[0;36m<module>\u001b[1;34m\u001b[0m\n\u001b[1;32m----> 1\u001b[1;33m \u001b[0mos\u001b[0m\u001b[1;33m.\u001b[0m\u001b[0mpath\u001b[0m\u001b[1;33m.\u001b[0m\u001b[0mabspath\u001b[0m\u001b[1;33m(\u001b[0m\u001b[1;33m)\u001b[0m\u001b[1;33m\u001b[0m\u001b[1;33m\u001b[0m\u001b[0m\n\u001b[0m",
      "\u001b[1;31mTypeError\u001b[0m: abspath() missing 1 required positional argument: 'path'"
     ]
    }
   ],
   "source": [
    "os.path.abspath()"
   ]
  },
  {
   "cell_type": "code",
   "execution_count": null,
   "metadata": {},
   "outputs": [],
   "source": []
  }
 ],
 "metadata": {
  "colab": {
   "collapsed_sections": [
    "rX8mhOLljYeM"
   ],
   "name": "beginner.ipynb",
   "toc_visible": true
  },
  "kernelspec": {
   "display_name": "Python 3",
   "language": "python",
   "name": "python3"
  },
  "language_info": {
   "codemirror_mode": {
    "name": "ipython",
    "version": 3
   },
   "file_extension": ".py",
   "mimetype": "text/x-python",
   "name": "python",
   "nbconvert_exporter": "python",
   "pygments_lexer": "ipython3",
   "version": "3.7.1"
  }
 },
 "nbformat": 4,
 "nbformat_minor": 1
}
