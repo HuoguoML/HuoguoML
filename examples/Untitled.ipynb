{
 "cells": [
  {
   "cell_type": "code",
   "execution_count": 1,
   "id": "civil-technician",
   "metadata": {},
   "outputs": [],
   "source": [
    "import time\n",
    "from typing import List, Dict\n",
    "\n",
    "from pydantic import BaseModel, Field\n",
    "\n",
    "from huoguoml.utils import create_hash\n",
    "\n",
    "class Run(BaseModel):\n",
    "    \"\"\"\n",
    "    Model for a single experiment Run\n",
    "    \"\"\"\n",
    "    id: str = Field(default_factory=lambda: create_hash(value=str(time.time()), algorithm=\"md5\"))\n",
    "    creation_timestamp: float = Field(default_factory=time.time)"
   ]
  },
  {
   "cell_type": "code",
   "execution_count": 2,
   "id": "orange-heavy",
   "metadata": {},
   "outputs": [
    {
     "data": {
      "text/plain": [
       "'{\"id\": \"6668367d07ce97cd7ea34ec190a769a9\", \"creation_timestamp\": 1613314196.8745642}'"
      ]
     },
     "execution_count": 2,
     "metadata": {},
     "output_type": "execute_result"
    }
   ],
   "source": [
    "Run().json()"
   ]
  },
  {
   "cell_type": "code",
   "execution_count": 14,
   "id": "adopted-moral",
   "metadata": {},
   "outputs": [],
   "source": [
    "\n",
    "class Experiment(BaseModel):\n",
    "    \"\"\"Type for a experiment\n",
    "    \"\"\"\n",
    "    name: str\n",
    "    runs: List[Run] = []\n",
    "\n",
    "\n",
    "class Experiments(BaseModel):\n",
    "    \"\"\"Type representing a list of experiments\n",
    "    \"\"\"\n",
    "    experiments: List[Experiment]\n",
    "    \n",
    "    def test(self):\n",
    "        self.experiments.append(Experiment(name=\"hi\"))"
   ]
  },
  {
   "cell_type": "code",
   "execution_count": 15,
   "id": "bibliographic-poultry",
   "metadata": {},
   "outputs": [
    {
     "data": {
      "text/plain": [
       "[]"
      ]
     },
     "execution_count": 15,
     "metadata": {},
     "output_type": "execute_result"
    }
   ],
   "source": [
    "a = Experiments(experiments=[])\n",
    "a.experiments"
   ]
  },
  {
   "cell_type": "code",
   "execution_count": 21,
   "id": "acting-librarian",
   "metadata": {},
   "outputs": [],
   "source": [
    "\n",
    "class Experiments(BaseModel):\n",
    "    \"\"\"Type representing a list of experiments\n",
    "    \"\"\"\n",
    "    experiments: List[Experiment] = []\n"
   ]
  },
  {
   "cell_type": "code",
   "execution_count": 22,
   "id": "accessible-onion",
   "metadata": {},
   "outputs": [
    {
     "ename": "ValidationError",
     "evalue": "1 validation error for Experiments\nexperiments\n  none is not an allowed value (type=type_error.none.not_allowed)",
     "output_type": "error",
     "traceback": [
      "\u001b[1;31m---------------------------------------------------------------------------\u001b[0m",
      "\u001b[1;31mValidationError\u001b[0m                           Traceback (most recent call last)",
      "\u001b[1;32m<ipython-input-22-ec17439b1f36>\u001b[0m in \u001b[0;36m<module>\u001b[1;34m\u001b[0m\n\u001b[1;32m----> 1\u001b[1;33m \u001b[0mExperiments\u001b[0m\u001b[1;33m(\u001b[0m\u001b[0mexperiments\u001b[0m\u001b[1;33m=\u001b[0m\u001b[1;32mNone\u001b[0m\u001b[1;33m)\u001b[0m\u001b[1;33m\u001b[0m\u001b[1;33m\u001b[0m\u001b[0m\n\u001b[0m",
      "\u001b[1;32mc:\\users\\steven\\desktop\\huoguoml\\venv\\lib\\site-packages\\pydantic\\main.cp37-win_amd64.pyd\u001b[0m in \u001b[0;36mpydantic.main.BaseModel.__init__\u001b[1;34m()\u001b[0m\n",
      "\u001b[1;31mValidationError\u001b[0m: 1 validation error for Experiments\nexperiments\n  none is not an allowed value (type=type_error.none.not_allowed)"
     ]
    }
   ],
   "source": [
    "Experiments(experiments=None)"
   ]
  },
  {
   "cell_type": "code",
   "execution_count": null,
   "id": "mighty-alfred",
   "metadata": {},
   "outputs": [],
   "source": []
  }
 ],
 "metadata": {
  "kernelspec": {
   "display_name": "Python 3",
   "language": "python",
   "name": "python3"
  },
  "language_info": {
   "codemirror_mode": {
    "name": "ipython",
    "version": 3
   },
   "file_extension": ".py",
   "mimetype": "text/x-python",
   "name": "python",
   "nbconvert_exporter": "python",
   "pygments_lexer": "ipython3",
   "version": "3.7.1"
  }
 },
 "nbformat": 4,
 "nbformat_minor": 5
}
